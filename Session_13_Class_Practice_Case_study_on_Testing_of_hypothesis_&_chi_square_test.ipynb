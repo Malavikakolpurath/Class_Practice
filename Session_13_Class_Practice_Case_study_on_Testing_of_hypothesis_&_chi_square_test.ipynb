{
  "nbformat": 4,
  "nbformat_minor": 0,
  "metadata": {
    "colab": {
      "provenance": []
    },
    "kernelspec": {
      "name": "python3",
      "display_name": "Python 3"
    },
    "language_info": {
      "name": "python"
    }
  },
  "cells": [
    {
      "cell_type": "code",
      "source": [
        "#### Z TEST ####"
      ],
      "metadata": {
        "id": "786YbF3CBEe4"
      },
      "execution_count": null,
      "outputs": []
    },
    {
      "cell_type": "code",
      "execution_count": null,
      "metadata": {
        "id": "_KA3ivrQ5k-H"
      },
      "outputs": [],
      "source": [
        "### Example 1 :One Sample Z test\n",
        "\n",
        "Suppose the IQ in a certain population is normally distributed with a mean of mew=100 and standard deviation of sigma =15\n",
        "\n",
        "A researcher wants to know if a new drug affects IQ levels, so he results 20 patients to try it and records their IQ levels.\n",
        "\n",
        "data =[88,92,94,94,96,97,97,97,99,99,105,109,109,109,110,112,112,113,114,115]"
      ]
    },
    {
      "cell_type": "code",
      "source": [
        "import scipy.stats as stats\n",
        "from statsmodels.stats.weightstats import ztest\n",
        "data =[88,92,94,94,96,97,97,97,99,99,105,109,109,109,110,112,112,113,114,115]\n",
        "pop_mean=100\n",
        "n=len(data)\n",
        "alpha=0.05\n",
        "z_val,p_val=ztest(data,value=pop_mean)\n",
        "if p_val<alpha:\n",
        "  print('Reject null Hypothesis : The new drug effect IQ level')\n",
        "else:\n",
        "  print('Do not Reject null Hypothesis : The new drug has no effect IQ level')"
      ],
      "metadata": {
        "colab": {
          "base_uri": "https://localhost:8080/"
        },
        "id": "UBNT5t4M7mkT",
        "outputId": "844fc972-edac-4488-e48c-2d7d57d5008c"
      },
      "execution_count": null,
      "outputs": [
        {
          "output_type": "stream",
          "name": "stdout",
          "text": [
            "Do not Reject null Hypothesis : The new drug has no effect IQ level\n"
          ]
        }
      ]
    },
    {
      "cell_type": "code",
      "source": [
        "p_val"
      ],
      "metadata": {
        "colab": {
          "base_uri": "https://localhost:8080/"
        },
        "id": "22I-OG2q7mEm",
        "outputId": "ce6e2d3c-5b79-4484-b6ad-70c653920b1d"
      },
      "execution_count": null,
      "outputs": [
        {
          "output_type": "execute_result",
          "data": {
            "text/plain": [
              "0.1101266701438426"
            ]
          },
          "metadata": {},
          "execution_count": 5
        }
      ]
    },
    {
      "cell_type": "code",
      "source": [
        "### TWO SAMPLE Z TEST\n",
        "\n",
        "Suppose the IQ levels among individuals in two different cities are known to be normally distributed with known standard deviations\n",
        "\n",
        "A researcher wants to know if the mean IQ level between individuals in cityA and cityB are different ,\n",
        " so she selects a simple random sample of 20 individuals from each city and records their IQ levels.\n",
        "\n",
        "cityA =[82,84,85,89,91,91,92,94,99,99,105,109,109,109,110,112,112,113,114,114]\n",
        "cityB =[90,91,91,91,95,95,99,99,108,109,109,114,115,116,117,117,128,129,130,133]"
      ],
      "metadata": {
        "id": "dwUH5E1lCelp"
      },
      "execution_count": null,
      "outputs": []
    },
    {
      "cell_type": "code",
      "source": [
        "cityA =[82,84,85,89,91,91,92,94,99,99,105,109,109,109,110,112,112,113,114,114]\n",
        "cityB =[90,91,91,91,95,95,99,99,108,109,109,114,115,116,117,117,128,129,130,133]\n",
        "alpha=0.05\n",
        "z_val,p_val=ztest(cityA,cityB)\n",
        "if p_val<alpha:\n",
        "  print('Reject null Hypothesis :The mean IQ values btw city A and B are different')\n",
        "else:\n",
        "    print('Do not Reject null Hypothesis : city A and B has same mean IQ values')"
      ],
      "metadata": {
        "colab": {
          "base_uri": "https://localhost:8080/"
        },
        "id": "KW1A77OnHl-D",
        "outputId": "db1f60ee-6e1f-476b-8074-ee42ec3af6ab"
      },
      "execution_count": null,
      "outputs": [
        {
          "output_type": "stream",
          "name": "stdout",
          "text": [
            "Reject null Hypothesis :The mean IQ values btw city A and B are different\n"
          ]
        }
      ]
    },
    {
      "cell_type": "code",
      "source": [
        "p_val"
      ],
      "metadata": {
        "colab": {
          "base_uri": "https://localhost:8080/"
        },
        "id": "vad_JSUjKPa2",
        "outputId": "5d3f2ec1-39e3-4727-8fc5-160c189ff04f"
      },
      "execution_count": null,
      "outputs": [
        {
          "output_type": "execute_result",
          "data": {
            "text/plain": [
              "0.046007596761332065"
            ]
          },
          "metadata": {},
          "execution_count": 9
        }
      ]
    },
    {
      "cell_type": "code",
      "source": [
        "## data set = Corona_Updated.csv"
      ],
      "metadata": {
        "id": "25ffawa-KaSu"
      },
      "execution_count": null,
      "outputs": []
    },
    {
      "cell_type": "code",
      "source": [
        "Corona data set\n",
        "To see whether the temperature has any effect on covid 19.\n",
        "Null Hypothesis : Temperature doesnot affect COV-19 outbreak\n",
        "Alternate Hypothesis : Temperature does affect COV-19 outbreak\n",
        "Below 24-Cold Climate\n",
        "Above 24-Hot Climate\n"
      ],
      "metadata": {
        "id": "7uGemI7rLil8"
      },
      "execution_count": null,
      "outputs": []
    },
    {
      "cell_type": "code",
      "source": [
        "import pandas as pd\n",
        "cor_data=pd.read_csv('Corona_Updated.csv')\n",
        "cor_data"
      ],
      "metadata": {
        "colab": {
          "base_uri": "https://localhost:8080/",
          "height": 634
        },
        "id": "t--4Q-KQMrdt",
        "outputId": "f9bc30c0-af1d-480a-9a5b-1891b994a281"
      },
      "execution_count": null,
      "outputs": [
        {
          "output_type": "execute_result",
          "data": {
            "text/plain": [
              "    Province/State              Country/Region          Last Update  \\\n",
              "0            Hubei              Mainland China  2020-03-10T15:13:05   \n",
              "1              NaN                       Italy  2020-03-10T17:53:02   \n",
              "2              NaN  Iran (Islamic Republic of)  2020-03-10T19:13:20   \n",
              "3              NaN           Republic of Korea  2020-03-10T19:13:20   \n",
              "4              NaN                      France  2020-03-10T18:53:02   \n",
              "..             ...                         ...                  ...   \n",
              "201     New Mexico                          US  2020-03-10T02:33:04   \n",
              "202   North Dakota                          US  2020-03-10T02:33:04   \n",
              "203   South Dakota                          US  2020-03-10T02:33:04   \n",
              "204  West Virginia                          US  2020-03-10T02:33:04   \n",
              "205        Wyoming                          US  2020-03-10T02:33:04   \n",
              "\n",
              "     Confirmed  Deaths  Recovered  Latitude  Longitude  Temprature  Humidity  \\\n",
              "0        67760    3024      47743   30.9756   112.2707        12.5        86   \n",
              "1        10149     631        724   43.0000    12.0000        12.9        64   \n",
              "2         8042     291       2731   32.0000    53.0000        11.9         9   \n",
              "3         7513      54        247   36.0000   128.0000         4.9        41   \n",
              "4         1784      33         12   47.0000     2.0000        11.9        93   \n",
              "..         ...     ...        ...       ...        ...         ...       ...   \n",
              "201          0       0          0   34.8405  -106.2485        10.0        75   \n",
              "202          0       0          0   47.5289   -99.7840         2.7        89   \n",
              "203          0       0          0   44.2998   -99.4388         5.9        69   \n",
              "204          0       0          0   38.4912   -80.9545        10.6        96   \n",
              "205          0       0          0   42.7560  -107.3025        -2.7        91   \n",
              "\n",
              "     Temp_Cat  Humid_Cat  \n",
              "0           1          1  \n",
              "1           1          1  \n",
              "2           0          0  \n",
              "3           0          0  \n",
              "4           0          0  \n",
              "..        ...        ...  \n",
              "201         0          0  \n",
              "202         0          0  \n",
              "203         0          0  \n",
              "204         0          0  \n",
              "205         0          0  \n",
              "\n",
              "[206 rows x 12 columns]"
            ],
            "text/html": [
              "\n",
              "  <div id=\"df-f6851a2c-eb5e-4e7d-9304-1e75d22cab65\" class=\"colab-df-container\">\n",
              "    <div>\n",
              "<style scoped>\n",
              "    .dataframe tbody tr th:only-of-type {\n",
              "        vertical-align: middle;\n",
              "    }\n",
              "\n",
              "    .dataframe tbody tr th {\n",
              "        vertical-align: top;\n",
              "    }\n",
              "\n",
              "    .dataframe thead th {\n",
              "        text-align: right;\n",
              "    }\n",
              "</style>\n",
              "<table border=\"1\" class=\"dataframe\">\n",
              "  <thead>\n",
              "    <tr style=\"text-align: right;\">\n",
              "      <th></th>\n",
              "      <th>Province/State</th>\n",
              "      <th>Country/Region</th>\n",
              "      <th>Last Update</th>\n",
              "      <th>Confirmed</th>\n",
              "      <th>Deaths</th>\n",
              "      <th>Recovered</th>\n",
              "      <th>Latitude</th>\n",
              "      <th>Longitude</th>\n",
              "      <th>Temprature</th>\n",
              "      <th>Humidity</th>\n",
              "      <th>Temp_Cat</th>\n",
              "      <th>Humid_Cat</th>\n",
              "    </tr>\n",
              "  </thead>\n",
              "  <tbody>\n",
              "    <tr>\n",
              "      <th>0</th>\n",
              "      <td>Hubei</td>\n",
              "      <td>Mainland China</td>\n",
              "      <td>2020-03-10T15:13:05</td>\n",
              "      <td>67760</td>\n",
              "      <td>3024</td>\n",
              "      <td>47743</td>\n",
              "      <td>30.9756</td>\n",
              "      <td>112.2707</td>\n",
              "      <td>12.5</td>\n",
              "      <td>86</td>\n",
              "      <td>1</td>\n",
              "      <td>1</td>\n",
              "    </tr>\n",
              "    <tr>\n",
              "      <th>1</th>\n",
              "      <td>NaN</td>\n",
              "      <td>Italy</td>\n",
              "      <td>2020-03-10T17:53:02</td>\n",
              "      <td>10149</td>\n",
              "      <td>631</td>\n",
              "      <td>724</td>\n",
              "      <td>43.0000</td>\n",
              "      <td>12.0000</td>\n",
              "      <td>12.9</td>\n",
              "      <td>64</td>\n",
              "      <td>1</td>\n",
              "      <td>1</td>\n",
              "    </tr>\n",
              "    <tr>\n",
              "      <th>2</th>\n",
              "      <td>NaN</td>\n",
              "      <td>Iran (Islamic Republic of)</td>\n",
              "      <td>2020-03-10T19:13:20</td>\n",
              "      <td>8042</td>\n",
              "      <td>291</td>\n",
              "      <td>2731</td>\n",
              "      <td>32.0000</td>\n",
              "      <td>53.0000</td>\n",
              "      <td>11.9</td>\n",
              "      <td>9</td>\n",
              "      <td>0</td>\n",
              "      <td>0</td>\n",
              "    </tr>\n",
              "    <tr>\n",
              "      <th>3</th>\n",
              "      <td>NaN</td>\n",
              "      <td>Republic of Korea</td>\n",
              "      <td>2020-03-10T19:13:20</td>\n",
              "      <td>7513</td>\n",
              "      <td>54</td>\n",
              "      <td>247</td>\n",
              "      <td>36.0000</td>\n",
              "      <td>128.0000</td>\n",
              "      <td>4.9</td>\n",
              "      <td>41</td>\n",
              "      <td>0</td>\n",
              "      <td>0</td>\n",
              "    </tr>\n",
              "    <tr>\n",
              "      <th>4</th>\n",
              "      <td>NaN</td>\n",
              "      <td>France</td>\n",
              "      <td>2020-03-10T18:53:02</td>\n",
              "      <td>1784</td>\n",
              "      <td>33</td>\n",
              "      <td>12</td>\n",
              "      <td>47.0000</td>\n",
              "      <td>2.0000</td>\n",
              "      <td>11.9</td>\n",
              "      <td>93</td>\n",
              "      <td>0</td>\n",
              "      <td>0</td>\n",
              "    </tr>\n",
              "    <tr>\n",
              "      <th>...</th>\n",
              "      <td>...</td>\n",
              "      <td>...</td>\n",
              "      <td>...</td>\n",
              "      <td>...</td>\n",
              "      <td>...</td>\n",
              "      <td>...</td>\n",
              "      <td>...</td>\n",
              "      <td>...</td>\n",
              "      <td>...</td>\n",
              "      <td>...</td>\n",
              "      <td>...</td>\n",
              "      <td>...</td>\n",
              "    </tr>\n",
              "    <tr>\n",
              "      <th>201</th>\n",
              "      <td>New Mexico</td>\n",
              "      <td>US</td>\n",
              "      <td>2020-03-10T02:33:04</td>\n",
              "      <td>0</td>\n",
              "      <td>0</td>\n",
              "      <td>0</td>\n",
              "      <td>34.8405</td>\n",
              "      <td>-106.2485</td>\n",
              "      <td>10.0</td>\n",
              "      <td>75</td>\n",
              "      <td>0</td>\n",
              "      <td>0</td>\n",
              "    </tr>\n",
              "    <tr>\n",
              "      <th>202</th>\n",
              "      <td>North Dakota</td>\n",
              "      <td>US</td>\n",
              "      <td>2020-03-10T02:33:04</td>\n",
              "      <td>0</td>\n",
              "      <td>0</td>\n",
              "      <td>0</td>\n",
              "      <td>47.5289</td>\n",
              "      <td>-99.7840</td>\n",
              "      <td>2.7</td>\n",
              "      <td>89</td>\n",
              "      <td>0</td>\n",
              "      <td>0</td>\n",
              "    </tr>\n",
              "    <tr>\n",
              "      <th>203</th>\n",
              "      <td>South Dakota</td>\n",
              "      <td>US</td>\n",
              "      <td>2020-03-10T02:33:04</td>\n",
              "      <td>0</td>\n",
              "      <td>0</td>\n",
              "      <td>0</td>\n",
              "      <td>44.2998</td>\n",
              "      <td>-99.4388</td>\n",
              "      <td>5.9</td>\n",
              "      <td>69</td>\n",
              "      <td>0</td>\n",
              "      <td>0</td>\n",
              "    </tr>\n",
              "    <tr>\n",
              "      <th>204</th>\n",
              "      <td>West Virginia</td>\n",
              "      <td>US</td>\n",
              "      <td>2020-03-10T02:33:04</td>\n",
              "      <td>0</td>\n",
              "      <td>0</td>\n",
              "      <td>0</td>\n",
              "      <td>38.4912</td>\n",
              "      <td>-80.9545</td>\n",
              "      <td>10.6</td>\n",
              "      <td>96</td>\n",
              "      <td>0</td>\n",
              "      <td>0</td>\n",
              "    </tr>\n",
              "    <tr>\n",
              "      <th>205</th>\n",
              "      <td>Wyoming</td>\n",
              "      <td>US</td>\n",
              "      <td>2020-03-10T02:33:04</td>\n",
              "      <td>0</td>\n",
              "      <td>0</td>\n",
              "      <td>0</td>\n",
              "      <td>42.7560</td>\n",
              "      <td>-107.3025</td>\n",
              "      <td>-2.7</td>\n",
              "      <td>91</td>\n",
              "      <td>0</td>\n",
              "      <td>0</td>\n",
              "    </tr>\n",
              "  </tbody>\n",
              "</table>\n",
              "<p>206 rows × 12 columns</p>\n",
              "</div>\n",
              "    <div class=\"colab-df-buttons\">\n",
              "\n",
              "  <div class=\"colab-df-container\">\n",
              "    <button class=\"colab-df-convert\" onclick=\"convertToInteractive('df-f6851a2c-eb5e-4e7d-9304-1e75d22cab65')\"\n",
              "            title=\"Convert this dataframe to an interactive table.\"\n",
              "            style=\"display:none;\">\n",
              "\n",
              "  <svg xmlns=\"http://www.w3.org/2000/svg\" height=\"24px\" viewBox=\"0 -960 960 960\">\n",
              "    <path d=\"M120-120v-720h720v720H120Zm60-500h600v-160H180v160Zm220 220h160v-160H400v160Zm0 220h160v-160H400v160ZM180-400h160v-160H180v160Zm440 0h160v-160H620v160ZM180-180h160v-160H180v160Zm440 0h160v-160H620v160Z\"/>\n",
              "  </svg>\n",
              "    </button>\n",
              "\n",
              "  <style>\n",
              "    .colab-df-container {\n",
              "      display:flex;\n",
              "      gap: 12px;\n",
              "    }\n",
              "\n",
              "    .colab-df-convert {\n",
              "      background-color: #E8F0FE;\n",
              "      border: none;\n",
              "      border-radius: 50%;\n",
              "      cursor: pointer;\n",
              "      display: none;\n",
              "      fill: #1967D2;\n",
              "      height: 32px;\n",
              "      padding: 0 0 0 0;\n",
              "      width: 32px;\n",
              "    }\n",
              "\n",
              "    .colab-df-convert:hover {\n",
              "      background-color: #E2EBFA;\n",
              "      box-shadow: 0px 1px 2px rgba(60, 64, 67, 0.3), 0px 1px 3px 1px rgba(60, 64, 67, 0.15);\n",
              "      fill: #174EA6;\n",
              "    }\n",
              "\n",
              "    .colab-df-buttons div {\n",
              "      margin-bottom: 4px;\n",
              "    }\n",
              "\n",
              "    [theme=dark] .colab-df-convert {\n",
              "      background-color: #3B4455;\n",
              "      fill: #D2E3FC;\n",
              "    }\n",
              "\n",
              "    [theme=dark] .colab-df-convert:hover {\n",
              "      background-color: #434B5C;\n",
              "      box-shadow: 0px 1px 3px 1px rgba(0, 0, 0, 0.15);\n",
              "      filter: drop-shadow(0px 1px 2px rgba(0, 0, 0, 0.3));\n",
              "      fill: #FFFFFF;\n",
              "    }\n",
              "  </style>\n",
              "\n",
              "    <script>\n",
              "      const buttonEl =\n",
              "        document.querySelector('#df-f6851a2c-eb5e-4e7d-9304-1e75d22cab65 button.colab-df-convert');\n",
              "      buttonEl.style.display =\n",
              "        google.colab.kernel.accessAllowed ? 'block' : 'none';\n",
              "\n",
              "      async function convertToInteractive(key) {\n",
              "        const element = document.querySelector('#df-f6851a2c-eb5e-4e7d-9304-1e75d22cab65');\n",
              "        const dataTable =\n",
              "          await google.colab.kernel.invokeFunction('convertToInteractive',\n",
              "                                                    [key], {});\n",
              "        if (!dataTable) return;\n",
              "\n",
              "        const docLinkHtml = 'Like what you see? Visit the ' +\n",
              "          '<a target=\"_blank\" href=https://colab.research.google.com/notebooks/data_table.ipynb>data table notebook</a>'\n",
              "          + ' to learn more about interactive tables.';\n",
              "        element.innerHTML = '';\n",
              "        dataTable['output_type'] = 'display_data';\n",
              "        await google.colab.output.renderOutput(dataTable, element);\n",
              "        const docLink = document.createElement('div');\n",
              "        docLink.innerHTML = docLinkHtml;\n",
              "        element.appendChild(docLink);\n",
              "      }\n",
              "    </script>\n",
              "  </div>\n",
              "\n",
              "\n",
              "<div id=\"df-96b63c9d-32ec-4634-9b69-cbf221aa5ff5\">\n",
              "  <button class=\"colab-df-quickchart\" onclick=\"quickchart('df-96b63c9d-32ec-4634-9b69-cbf221aa5ff5')\"\n",
              "            title=\"Suggest charts.\"\n",
              "            style=\"display:none;\">\n",
              "\n",
              "<svg xmlns=\"http://www.w3.org/2000/svg\" height=\"24px\"viewBox=\"0 0 24 24\"\n",
              "     width=\"24px\">\n",
              "    <g>\n",
              "        <path d=\"M19 3H5c-1.1 0-2 .9-2 2v14c0 1.1.9 2 2 2h14c1.1 0 2-.9 2-2V5c0-1.1-.9-2-2-2zM9 17H7v-7h2v7zm4 0h-2V7h2v10zm4 0h-2v-4h2v4z\"/>\n",
              "    </g>\n",
              "</svg>\n",
              "  </button>\n",
              "\n",
              "<style>\n",
              "  .colab-df-quickchart {\n",
              "      --bg-color: #E8F0FE;\n",
              "      --fill-color: #1967D2;\n",
              "      --hover-bg-color: #E2EBFA;\n",
              "      --hover-fill-color: #174EA6;\n",
              "      --disabled-fill-color: #AAA;\n",
              "      --disabled-bg-color: #DDD;\n",
              "  }\n",
              "\n",
              "  [theme=dark] .colab-df-quickchart {\n",
              "      --bg-color: #3B4455;\n",
              "      --fill-color: #D2E3FC;\n",
              "      --hover-bg-color: #434B5C;\n",
              "      --hover-fill-color: #FFFFFF;\n",
              "      --disabled-bg-color: #3B4455;\n",
              "      --disabled-fill-color: #666;\n",
              "  }\n",
              "\n",
              "  .colab-df-quickchart {\n",
              "    background-color: var(--bg-color);\n",
              "    border: none;\n",
              "    border-radius: 50%;\n",
              "    cursor: pointer;\n",
              "    display: none;\n",
              "    fill: var(--fill-color);\n",
              "    height: 32px;\n",
              "    padding: 0;\n",
              "    width: 32px;\n",
              "  }\n",
              "\n",
              "  .colab-df-quickchart:hover {\n",
              "    background-color: var(--hover-bg-color);\n",
              "    box-shadow: 0 1px 2px rgba(60, 64, 67, 0.3), 0 1px 3px 1px rgba(60, 64, 67, 0.15);\n",
              "    fill: var(--button-hover-fill-color);\n",
              "  }\n",
              "\n",
              "  .colab-df-quickchart-complete:disabled,\n",
              "  .colab-df-quickchart-complete:disabled:hover {\n",
              "    background-color: var(--disabled-bg-color);\n",
              "    fill: var(--disabled-fill-color);\n",
              "    box-shadow: none;\n",
              "  }\n",
              "\n",
              "  .colab-df-spinner {\n",
              "    border: 2px solid var(--fill-color);\n",
              "    border-color: transparent;\n",
              "    border-bottom-color: var(--fill-color);\n",
              "    animation:\n",
              "      spin 1s steps(1) infinite;\n",
              "  }\n",
              "\n",
              "  @keyframes spin {\n",
              "    0% {\n",
              "      border-color: transparent;\n",
              "      border-bottom-color: var(--fill-color);\n",
              "      border-left-color: var(--fill-color);\n",
              "    }\n",
              "    20% {\n",
              "      border-color: transparent;\n",
              "      border-left-color: var(--fill-color);\n",
              "      border-top-color: var(--fill-color);\n",
              "    }\n",
              "    30% {\n",
              "      border-color: transparent;\n",
              "      border-left-color: var(--fill-color);\n",
              "      border-top-color: var(--fill-color);\n",
              "      border-right-color: var(--fill-color);\n",
              "    }\n",
              "    40% {\n",
              "      border-color: transparent;\n",
              "      border-right-color: var(--fill-color);\n",
              "      border-top-color: var(--fill-color);\n",
              "    }\n",
              "    60% {\n",
              "      border-color: transparent;\n",
              "      border-right-color: var(--fill-color);\n",
              "    }\n",
              "    80% {\n",
              "      border-color: transparent;\n",
              "      border-right-color: var(--fill-color);\n",
              "      border-bottom-color: var(--fill-color);\n",
              "    }\n",
              "    90% {\n",
              "      border-color: transparent;\n",
              "      border-bottom-color: var(--fill-color);\n",
              "    }\n",
              "  }\n",
              "</style>\n",
              "\n",
              "  <script>\n",
              "    async function quickchart(key) {\n",
              "      const quickchartButtonEl =\n",
              "        document.querySelector('#' + key + ' button');\n",
              "      quickchartButtonEl.disabled = true;  // To prevent multiple clicks.\n",
              "      quickchartButtonEl.classList.add('colab-df-spinner');\n",
              "      try {\n",
              "        const charts = await google.colab.kernel.invokeFunction(\n",
              "            'suggestCharts', [key], {});\n",
              "      } catch (error) {\n",
              "        console.error('Error during call to suggestCharts:', error);\n",
              "      }\n",
              "      quickchartButtonEl.classList.remove('colab-df-spinner');\n",
              "      quickchartButtonEl.classList.add('colab-df-quickchart-complete');\n",
              "    }\n",
              "    (() => {\n",
              "      let quickchartButtonEl =\n",
              "        document.querySelector('#df-96b63c9d-32ec-4634-9b69-cbf221aa5ff5 button');\n",
              "      quickchartButtonEl.style.display =\n",
              "        google.colab.kernel.accessAllowed ? 'block' : 'none';\n",
              "    })();\n",
              "  </script>\n",
              "</div>\n",
              "    </div>\n",
              "  </div>\n"
            ]
          },
          "metadata": {},
          "execution_count": 12
        }
      ]
    },
    {
      "cell_type": "code",
      "source": [
        "cor_data.columns"
      ],
      "metadata": {
        "colab": {
          "base_uri": "https://localhost:8080/"
        },
        "id": "hIGoo8nsNtrw",
        "outputId": "546b16b3-46da-4fd8-9526-22ae6eaecd68"
      },
      "execution_count": null,
      "outputs": [
        {
          "output_type": "execute_result",
          "data": {
            "text/plain": [
              "Index(['Province/State', 'Country/Region', 'Last Update', 'Confirmed',\n",
              "       'Deaths', 'Recovered', 'Latitude', 'Longitude', 'Temprature',\n",
              "       'Humidity', 'Temp_Cat', 'Humid_Cat'],\n",
              "      dtype='object')"
            ]
          },
          "metadata": {},
          "execution_count": 13
        }
      ]
    },
    {
      "cell_type": "code",
      "source": [
        "## 24 nu thaze aanenkil cold nnum 24 nu molil aanenkil hot ennum kodukaan ulla code\n",
        "cor_data['Temp_Cat']=cor_data['Temprature'].apply(lambda x:0 if x<24 else 1)\n"
      ],
      "metadata": {
        "id": "2aSsnu6dOHol"
      },
      "execution_count": null,
      "outputs": []
    },
    {
      "cell_type": "code",
      "source": [
        "alpha =0.05\n",
        "z_val,p_val=ztest(cor_data['Temp_Cat'],cor_data['Confirmed'])\n",
        "if p_val<alpha:\n",
        "  print('Reject null Hypothesis : There is relation between corona outbreak and temp')\n",
        "else:\n",
        "  print('Do not Reject null Hypothesis : There is no relation between corona outbreak and temp')"
      ],
      "metadata": {
        "colab": {
          "base_uri": "https://localhost:8080/"
        },
        "id": "A_QZOb31RkUr",
        "outputId": "c56a5886-1310-48a4-ebff-9bb55581959d"
      },
      "execution_count": null,
      "outputs": [
        {
          "output_type": "stream",
          "name": "stdout",
          "text": [
            "Do not Reject null Hypothesis : There is no relation between corona outbreak and temp\n"
          ]
        }
      ]
    },
    {
      "cell_type": "code",
      "source": [
        "p_val"
      ],
      "metadata": {
        "colab": {
          "base_uri": "https://localhost:8080/"
        },
        "id": "mk4c-NyBWMyr",
        "outputId": "92ecb7b8-1364-4c09-d03e-e597c209f942"
      },
      "execution_count": null,
      "outputs": [
        {
          "output_type": "execute_result",
          "data": {
            "text/plain": [
              "0.08676755279995227"
            ]
          },
          "metadata": {},
          "execution_count": 19
        }
      ]
    },
    {
      "cell_type": "code",
      "source": [],
      "metadata": {
        "id": "CfcdytSfWusG"
      },
      "execution_count": null,
      "outputs": []
    },
    {
      "cell_type": "code",
      "source": [
        "#### One sample T Test"
      ],
      "metadata": {
        "id": "q9U_QtVsR0Id"
      },
      "execution_count": null,
      "outputs": []
    },
    {
      "cell_type": "code",
      "source": [
        "Let's say we want to determine if on average girls score more than 600 in the exam.\n",
        "We do  not have the information related to variance (or standard deviation) for girls' scores .\n",
        " To a perform t-test ,we randomly collect the data of 10 girls with their marks and chppse our\n",
        "  alpha value(significance level) to be 0.05 for Hypothesis testing.\n",
        "\n",
        "Marks=[587,602,627,610,619,622,605,608,596,592]"
      ],
      "metadata": {
        "id": "ZOfkPidYTATs"
      },
      "execution_count": null,
      "outputs": []
    },
    {
      "cell_type": "code",
      "source": [
        "import numpy as np\n",
        "from scipy import stats\n",
        "Marks=[587,602,627,610,619,622,605,608,596,592]\n",
        "pop_mean=600\n",
        "t_val,p_val=stats.ttest_1samp(Marks,pop_mean)\n",
        "alpha=0.05\n",
        "if p_val<alpha:\n",
        "  print('Reject null Hypothesis: Girls score more than 600')\n",
        "else:\n",
        "  print('Do not Reject null Hypothesis: Girls do not score more than 600')"
      ],
      "metadata": {
        "colab": {
          "base_uri": "https://localhost:8080/"
        },
        "id": "81fz6LVWWwh5",
        "outputId": "4e4e1547-0aaa-40d5-bc72-bb606481300b"
      },
      "execution_count": null,
      "outputs": [
        {
          "output_type": "stream",
          "name": "stdout",
          "text": [
            "Do not Reject null Hypothesis: Girls do not score more than 600\n"
          ]
        }
      ]
    },
    {
      "cell_type": "code",
      "source": [
        "###  CHI SQUARE TEST"
      ],
      "metadata": {
        "id": "DEE2bBq9cE3f"
      },
      "execution_count": null,
      "outputs": []
    },
    {
      "cell_type": "code",
      "source": [
        "A survey was conducted to determine if there is an association between coffee consumption\n",
        " (Regular,Decaf, or No Coffee) and preferred coffee additives(Sugar,Cream, or None).\n",
        "  The results are as follows :\n",
        "                 sugar   cream   none\n",
        "     Regular       30      25     10\n",
        "     Decaf         15      20     30\n",
        "     No coffee     10      5      25\n",
        "Conduct a chi-square test of independence at a 0.05 significance level to determine if\n",
        " coffee consumption and preferred additives are independent or if there is an association"
      ],
      "metadata": {
        "id": "ICHVpAAncKT8"
      },
      "execution_count": null,
      "outputs": []
    },
    {
      "cell_type": "code",
      "source": [
        "import scipy.stats as stats\n",
        "# create a contigency table (observed frequencies)\n",
        "observed=[[30,25,10],[15,20,30],[10,5,25]]\n",
        "# perform the chi square test of independence\n",
        "chi_square_statistic,p_value,dof,expected=stats.chi2_contingency(observed)\n",
        "\n",
        "# significance level(alpha)\n",
        "alpha=0.05\n",
        "# make a decision\n",
        "if p_value<alpha:\n",
        "  print('Reject the null hypothesis:There is an association between coffee consumption and preferred additives')\n",
        "else:\n",
        "  print('fail to reject the null hhypothesis :coffee consumption and preferred additives are independent')"
      ],
      "metadata": {
        "colab": {
          "base_uri": "https://localhost:8080/"
        },
        "id": "m04OWs0baL3_",
        "outputId": "cad9c9f1-8722-495e-830a-23a347cdf1cf"
      },
      "execution_count": null,
      "outputs": [
        {
          "output_type": "stream",
          "name": "stdout",
          "text": [
            "Reject the null hypothesis:There is an association between coffee consumption and preferred additives\n"
          ]
        }
      ]
    },
    {
      "cell_type": "code",
      "source": [
        "p_value"
      ],
      "metadata": {
        "colab": {
          "base_uri": "https://localhost:8080/"
        },
        "id": "U4zWazoqkUQf",
        "outputId": "517c429c-6895-4521-bedd-ca8c09d67b7c"
      },
      "execution_count": null,
      "outputs": [
        {
          "output_type": "execute_result",
          "data": {
            "text/plain": [
              "1.2093282476946896e-05"
            ]
          },
          "metadata": {},
          "execution_count": 25
        }
      ]
    }
  ]
}