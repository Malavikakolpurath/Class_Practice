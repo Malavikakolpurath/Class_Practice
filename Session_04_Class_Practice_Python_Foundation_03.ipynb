{
  "nbformat": 4,
  "nbformat_minor": 0,
  "metadata": {
    "colab": {
      "provenance": []
    },
    "kernelspec": {
      "name": "python3",
      "display_name": "Python 3"
    },
    "language_info": {
      "name": "python"
    }
  },
  "cells": [
    {
      "cell_type": "code",
      "execution_count": null,
      "metadata": {
        "colab": {
          "base_uri": "https://localhost:8080/"
        },
        "id": "qwVIqmKC1b2A",
        "outputId": "9f6cd631-2f1d-4403-8639-ec87f76c54ce"
      },
      "outputs": [
        {
          "output_type": "stream",
          "name": "stdout",
          "text": [
            "hello from function\n"
          ]
        }
      ],
      "source": [
        "def add_numbers():\n",
        "  print(\"hello from function\")\n",
        "\n",
        "\n",
        "add_numbers()"
      ]
    },
    {
      "cell_type": "code",
      "source": [
        "def fun():\n",
        "    print(\"Welcome to the session\")\n",
        "\n",
        "fun()"
      ],
      "metadata": {
        "colab": {
          "base_uri": "https://localhost:8080/"
        },
        "id": "sViNwmri17eB",
        "outputId": "6e3fc6ac-9a5a-454d-b203-1cbd92086406"
      },
      "execution_count": null,
      "outputs": [
        {
          "output_type": "stream",
          "name": "stdout",
          "text": [
            "Welcome to the session\n"
          ]
        }
      ]
    },
    {
      "cell_type": "code",
      "source": [
        "def evenOdd(x):\n",
        "    if (x % 2 == 0):\n",
        "        print(\"even\")\n",
        "    else:\n",
        "        print(\"odd\")"
      ],
      "metadata": {
        "id": "p-uwYwlj1_he"
      },
      "execution_count": null,
      "outputs": []
    },
    {
      "cell_type": "code",
      "source": [
        "def rectangle_area(len, wid):\n",
        "    return len * wid\n",
        "\n",
        "length = 10\n",
        "width = 5\n",
        "\n",
        "area = rectangle_area(length, width)\n",
        "print(\"The area of the rectangle is:\", area)"
      ],
      "metadata": {
        "colab": {
          "base_uri": "https://localhost:8080/"
        },
        "id": "OIpX4nKc2E1L",
        "outputId": "5662f54e-5a8f-43b2-e528-c85497d7305b"
      },
      "execution_count": null,
      "outputs": [
        {
          "output_type": "stream",
          "name": "stdout",
          "text": [
            "The area of the rectangle is: 50\n"
          ]
        }
      ]
    },
    {
      "cell_type": "code",
      "source": [
        "def find_maximum_value(a, b):\n",
        "  if a > b:\n",
        "      return a\n",
        "  elif a==b:\n",
        "      return \"same\"\n",
        "  else:\n",
        "      return b\n",
        "\n",
        "# Taking input from the user\n",
        "value1 = float(input(\"Enter the first value: \"))\n",
        "value2 = float(input(\"Enter the second value: \"))\n",
        "\n",
        "# Call the function to find the maximum\n",
        "maximum_value = find_maximum_value(value1, value2)\n",
        "\n",
        "# Print the result\n",
        "print(\"The maximum value is:\", maximum_value)"
      ],
      "metadata": {
        "colab": {
          "base_uri": "https://localhost:8080/"
        },
        "id": "GXsMK4PA2Mxo",
        "outputId": "570cf73f-ae09-4232-8030-c6fd299683ab"
      },
      "execution_count": null,
      "outputs": [
        {
          "output_type": "stream",
          "name": "stdout",
          "text": [
            "Enter the first value: 34\n",
            "Enter the second value: 54\n",
            "The maximum value is: 54.0\n"
          ]
        }
      ]
    },
    {
      "cell_type": "code",
      "source": [
        "def sayHello(message, times=2):\n",
        "  print(message * times)\n",
        "\n",
        "sayHello(\"hello \",5)"
      ],
      "metadata": {
        "colab": {
          "base_uri": "https://localhost:8080/"
        },
        "id": "UNJZZ3ry2eH2",
        "outputId": "34437950-a4d5-45e8-dc4a-c77408a79017"
      },
      "execution_count": null,
      "outputs": [
        {
          "output_type": "stream",
          "name": "stdout",
          "text": [
            "hello hello hello hello hello \n"
          ]
        }
      ]
    },
    {
      "cell_type": "code",
      "source": [
        "def my_function(country = \"Norway\"):\n",
        "  print(\"I am from \" + country)\n",
        "\n",
        "my_function(\"Sweden\")\n",
        "my_function(\"India\")\n",
        "my_function()\n",
        "my_function(\"Brazil\")"
      ],
      "metadata": {
        "colab": {
          "base_uri": "https://localhost:8080/"
        },
        "id": "5l70xlXp2joh",
        "outputId": "aec994a1-5b61-478e-ce1d-558287468a42"
      },
      "execution_count": null,
      "outputs": [
        {
          "output_type": "stream",
          "name": "stdout",
          "text": [
            "I am from Sweden\n",
            "I am from India\n",
            "I am from Norway\n",
            "I am from Brazil\n"
          ]
        }
      ]
    },
    {
      "cell_type": "code",
      "source": [
        "def greet_person(name, age, location=\"Unknown\"):\n",
        "  print(f\"Hello {name}! You are {age} years old and from {location}.\")\n",
        "\n",
        "greet_person(age=30, location=\"New York\",name=\"Alice\")\n",
        "greet_person(name=\"Bob\", age=25)"
      ],
      "metadata": {
        "colab": {
          "base_uri": "https://localhost:8080/"
        },
        "id": "9EaBciWO2n2F",
        "outputId": "2cbf8d2a-4bf1-4a62-9a86-0a6238beeb2d"
      },
      "execution_count": null,
      "outputs": [
        {
          "output_type": "stream",
          "name": "stdout",
          "text": [
            "Hello Alice! You are 30 years old and from New York.\n",
            "Hello Bob! You are 25 years old and from Unknown.\n"
          ]
        }
      ]
    },
    {
      "cell_type": "code",
      "source": [
        "def sum_numbers(*data):\n",
        "    total = 0\n",
        "    for num in data:\n",
        "        total += num\n",
        "    return total\n",
        "\n",
        "result = sum_numbers(1, 2, 3, 4, 5)\n",
        "print(\"Sum of 5 nums:\", result)\n",
        "\n",
        "result = sum_numbers(11, 12,13)\n",
        "print(\"Sum of 3 nums :\", result)\n",
        "\n",
        "result = sum_numbers(100, 200,300,400,500,600)\n",
        "print(\"Sum of 3 nums :\", result)"
      ],
      "metadata": {
        "colab": {
          "base_uri": "https://localhost:8080/"
        },
        "id": "klSiyE8Y2rr-",
        "outputId": "d6b75b78-ee28-42c0-c4b1-05a7c35245d8"
      },
      "execution_count": null,
      "outputs": [
        {
          "output_type": "stream",
          "name": "stdout",
          "text": [
            "Sum of 5 nums: 15\n",
            "Sum of 3 nums : 36\n",
            "Sum of 3 nums : 2100\n"
          ]
        }
      ]
    },
    {
      "cell_type": "code",
      "source": [
        "def print_info(**data1):\n",
        "    print(data1)\n",
        "    print(data1.items())\n",
        "    for key, value in data1.items():\n",
        "        print(f\"{key}: {value}\")\n",
        "\n",
        "# Call the function with various keyword arguments\n",
        "print_info(name=\"Alice\", age=30, city=\"New York\")"
      ],
      "metadata": {
        "colab": {
          "base_uri": "https://localhost:8080/"
        },
        "id": "5gakZ8HP20hS",
        "outputId": "33d13f4d-584d-47ce-f180-6d81b14fe535"
      },
      "execution_count": null,
      "outputs": [
        {
          "output_type": "stream",
          "name": "stdout",
          "text": [
            "{'name': 'Alice', 'age': 30, 'city': 'New York'}\n",
            "dict_items([('name', 'Alice'), ('age', 30), ('city', 'New York')])\n",
            "name: Alice\n",
            "age: 30\n",
            "city: New York\n"
          ]
        }
      ]
    },
    {
      "cell_type": "code",
      "source": [
        "print_info(country=\"USA\", occupation=\"Engineer\")"
      ],
      "metadata": {
        "colab": {
          "base_uri": "https://localhost:8080/"
        },
        "id": "09pjZ53X26Y4",
        "outputId": "9ab08322-f295-4e20-9c52-6c7b0dd5f145"
      },
      "execution_count": null,
      "outputs": [
        {
          "output_type": "stream",
          "name": "stdout",
          "text": [
            "{'country': 'USA', 'occupation': 'Engineer'}\n",
            "dict_items([('country', 'USA'), ('occupation', 'Engineer')])\n",
            "country: USA\n",
            "occupation: Engineer\n"
          ]
        }
      ]
    },
    {
      "cell_type": "code",
      "source": [
        "list1=[1,2,3,4,100]\n",
        "list1[4]"
      ],
      "metadata": {
        "colab": {
          "base_uri": "https://localhost:8080/"
        },
        "id": "RDQkvAQA3ACt",
        "outputId": "fcc718e0-a25b-49e0-847e-72c03e089514"
      },
      "execution_count": null,
      "outputs": [
        {
          "output_type": "execute_result",
          "data": {
            "text/plain": [
              "100"
            ]
          },
          "metadata": {},
          "execution_count": 13
        }
      ]
    },
    {
      "cell_type": "code",
      "source": [
        "tuple2 = (\"a\",\"b\",\"c\",\"d\",\"e\")\n",
        "tuple2[2]"
      ],
      "metadata": {
        "colab": {
          "base_uri": "https://localhost:8080/",
          "height": 35
        },
        "id": "2hvWpJ1S3FDm",
        "outputId": "de741273-14a4-45d0-e7d8-7e8cd6c4a6d0"
      },
      "execution_count": null,
      "outputs": [
        {
          "output_type": "execute_result",
          "data": {
            "text/plain": [
              "'c'"
            ],
            "application/vnd.google.colaboratory.intrinsic+json": {
              "type": "string"
            }
          },
          "metadata": {},
          "execution_count": 14
        }
      ]
    },
    {
      "cell_type": "code",
      "source": [
        "new_dict ={'name': 'Alice', 'age': 30, 'city': 'New York'}\n",
        "new_dict['age']"
      ],
      "metadata": {
        "colab": {
          "base_uri": "https://localhost:8080/"
        },
        "id": "82v7i6VT3Jpd",
        "outputId": "1918b7d2-d14e-4f32-eff1-d6947e5386be"
      },
      "execution_count": null,
      "outputs": [
        {
          "output_type": "execute_result",
          "data": {
            "text/plain": [
              "30"
            ]
          },
          "metadata": {},
          "execution_count": 15
        }
      ]
    },
    {
      "cell_type": "code",
      "source": [
        "list1=[\"red\",\"blue\",23,]"
      ],
      "metadata": {
        "id": "x1dD8rca3QB2"
      },
      "execution_count": null,
      "outputs": []
    },
    {
      "cell_type": "code",
      "source": [
        "thislist = list((\"apple\", \"banana\", \"cherry\"))\n",
        "print(thislist)"
      ],
      "metadata": {
        "colab": {
          "base_uri": "https://localhost:8080/"
        },
        "id": "ORaOh9eO3TnH",
        "outputId": "c223a5ce-30e0-4f5b-a456-32a658114675"
      },
      "execution_count": null,
      "outputs": [
        {
          "output_type": "stream",
          "name": "stdout",
          "text": [
            "['apple', 'banana', 'cherry']\n"
          ]
        }
      ]
    },
    {
      "cell_type": "code",
      "source": [
        "my_tuple = tuple((\"a\",\"b\",\"c\",\"d\",\"e\"))\n",
        "my_tuple"
      ],
      "metadata": {
        "colab": {
          "base_uri": "https://localhost:8080/"
        },
        "id": "nxNZI2r53W05",
        "outputId": "a008aad9-77e5-4f27-ac64-992818893aa1"
      },
      "execution_count": null,
      "outputs": [
        {
          "output_type": "execute_result",
          "data": {
            "text/plain": [
              "('a', 'b', 'c', 'd', 'e')"
            ]
          },
          "metadata": {},
          "execution_count": 18
        }
      ]
    },
    {
      "cell_type": "code",
      "source": [
        "thislist = [\"apple\", \"banana\", \"cherry\", \"orange\", \"kiwi\", \"melon\", \"mango\"]\n",
        "print(thislist[2:5])"
      ],
      "metadata": {
        "colab": {
          "base_uri": "https://localhost:8080/"
        },
        "id": "m6UbPd9E3bYp",
        "outputId": "87b794d8-d9be-4d20-9660-34763df9988b"
      },
      "execution_count": null,
      "outputs": [
        {
          "output_type": "stream",
          "name": "stdout",
          "text": [
            "['cherry', 'orange', 'kiwi']\n"
          ]
        }
      ]
    },
    {
      "cell_type": "code",
      "source": [
        "thislist[0:5:2]"
      ],
      "metadata": {
        "colab": {
          "base_uri": "https://localhost:8080/"
        },
        "id": "LSU8SnKy3i0h",
        "outputId": "22816e73-6ecb-4fc5-c63e-45541374cae0"
      },
      "execution_count": null,
      "outputs": [
        {
          "output_type": "execute_result",
          "data": {
            "text/plain": [
              "['apple', 'cherry', 'kiwi']"
            ]
          },
          "metadata": {},
          "execution_count": 20
        }
      ]
    },
    {
      "cell_type": "code",
      "source": [
        "thislist[0:4]"
      ],
      "metadata": {
        "colab": {
          "base_uri": "https://localhost:8080/"
        },
        "id": "44GXmBCA3n_W",
        "outputId": "a1fe0e4f-bc62-4b88-ce5f-8ec11138f547"
      },
      "execution_count": null,
      "outputs": [
        {
          "output_type": "execute_result",
          "data": {
            "text/plain": [
              "['apple', 'banana', 'cherry', 'orange']"
            ]
          },
          "metadata": {},
          "execution_count": 21
        }
      ]
    },
    {
      "cell_type": "code",
      "source": [
        "thislist[-2]"
      ],
      "metadata": {
        "colab": {
          "base_uri": "https://localhost:8080/",
          "height": 35
        },
        "id": "4K3YNIWi3tmD",
        "outputId": "f5988f1a-eefb-47f9-c453-547074b265b2"
      },
      "execution_count": null,
      "outputs": [
        {
          "output_type": "execute_result",
          "data": {
            "text/plain": [
              "'melon'"
            ],
            "application/vnd.google.colaboratory.intrinsic+json": {
              "type": "string"
            }
          },
          "metadata": {},
          "execution_count": 22
        }
      ]
    },
    {
      "cell_type": "code",
      "source": [
        "thislist.append(\"Grapes\")"
      ],
      "metadata": {
        "id": "7z68pJc03wun"
      },
      "execution_count": null,
      "outputs": []
    },
    {
      "cell_type": "code",
      "source": [
        "thislist"
      ],
      "metadata": {
        "colab": {
          "base_uri": "https://localhost:8080/"
        },
        "id": "NLRFBU303z9u",
        "outputId": "2b30f4fb-4488-406e-84fd-beecb4bba5f7"
      },
      "execution_count": null,
      "outputs": [
        {
          "output_type": "execute_result",
          "data": {
            "text/plain": [
              "['apple', 'banana', 'cherry', 'orange', 'kiwi', 'melon', 'mango', 'Grapes']"
            ]
          },
          "metadata": {},
          "execution_count": 24
        }
      ]
    },
    {
      "cell_type": "code",
      "source": [
        "thislist.insert(2,\"Strawberry\")\n",
        "thislist"
      ],
      "metadata": {
        "colab": {
          "base_uri": "https://localhost:8080/"
        },
        "id": "PJvvQi-_36vl",
        "outputId": "1464b928-a600-48f1-b82a-1f2a2f7da8c5"
      },
      "execution_count": null,
      "outputs": [
        {
          "output_type": "execute_result",
          "data": {
            "text/plain": [
              "['apple',\n",
              " 'banana',\n",
              " 'Strawberry',\n",
              " 'cherry',\n",
              " 'orange',\n",
              " 'kiwi',\n",
              " 'melon',\n",
              " 'mango',\n",
              " 'Grapes']"
            ]
          },
          "metadata": {},
          "execution_count": 25
        }
      ]
    },
    {
      "cell_type": "code",
      "source": [
        "thislist.pop(1)\n",
        "thislist"
      ],
      "metadata": {
        "colab": {
          "base_uri": "https://localhost:8080/"
        },
        "id": "KBCnjQxm38yl",
        "outputId": "6a062141-a0dc-4aef-c0f0-7c7ecd00f53b"
      },
      "execution_count": null,
      "outputs": [
        {
          "output_type": "execute_result",
          "data": {
            "text/plain": [
              "['apple', 'Strawberry', 'cherry', 'orange', 'kiwi', 'melon', 'mango', 'Grapes']"
            ]
          },
          "metadata": {},
          "execution_count": 26
        }
      ]
    },
    {
      "cell_type": "code",
      "source": [
        "thislist.remove('cherry')\n",
        "thislist"
      ],
      "metadata": {
        "colab": {
          "base_uri": "https://localhost:8080/"
        },
        "id": "G5__YH744VGp",
        "outputId": "b024a07f-3fd4-47c9-d44b-aa91af7cd68e"
      },
      "execution_count": null,
      "outputs": [
        {
          "output_type": "execute_result",
          "data": {
            "text/plain": [
              "['apple', 'Strawberry', 'orange', 'kiwi', 'melon', 'mango', 'Grapes']"
            ]
          },
          "metadata": {},
          "execution_count": 27
        }
      ]
    },
    {
      "cell_type": "code",
      "source": [
        "thislist[1]=\"watermelon\"\n",
        "thislist"
      ],
      "metadata": {
        "id": "Udev6mpy4ZL0"
      },
      "execution_count": null,
      "outputs": []
    },
    {
      "cell_type": "code",
      "source": [
        "print(len(thislist))"
      ],
      "metadata": {
        "colab": {
          "base_uri": "https://localhost:8080/"
        },
        "id": "PiweIDld4dUx",
        "outputId": "c1eec7c4-65ef-41c8-beef-8e9a38f9aa01"
      },
      "execution_count": null,
      "outputs": [
        {
          "output_type": "stream",
          "name": "stdout",
          "text": [
            "7\n"
          ]
        }
      ]
    },
    {
      "cell_type": "code",
      "source": [
        "for fruit in thislist:\n",
        "  print(\"my favorite fruit is , \",fruit)"
      ],
      "metadata": {
        "colab": {
          "base_uri": "https://localhost:8080/"
        },
        "id": "ekHcf0hi4h4g",
        "outputId": "8dcdf7e6-f0d3-402f-ea15-422a13e9d06e"
      },
      "execution_count": null,
      "outputs": [
        {
          "output_type": "stream",
          "name": "stdout",
          "text": [
            "my favorite fruit is ,  apple\n",
            "my favorite fruit is ,  Strawberry\n",
            "my favorite fruit is ,  orange\n",
            "my favorite fruit is ,  kiwi\n",
            "my favorite fruit is ,  melon\n",
            "my favorite fruit is ,  mango\n",
            "my favorite fruit is ,  Grapes\n"
          ]
        }
      ]
    },
    {
      "cell_type": "code",
      "source": [
        "del thislist[0]\n",
        "thislist"
      ],
      "metadata": {
        "colab": {
          "base_uri": "https://localhost:8080/"
        },
        "id": "053UUbdD4q6W",
        "outputId": "630cecea-a1d5-4230-82fe-2d5516117b80"
      },
      "execution_count": null,
      "outputs": [
        {
          "output_type": "execute_result",
          "data": {
            "text/plain": [
              "['Strawberry', 'orange', 'kiwi', 'melon', 'mango', 'Grapes']"
            ]
          },
          "metadata": {},
          "execution_count": 30
        }
      ]
    },
    {
      "cell_type": "code",
      "source": [
        "thislist.sort(reverse=True)\n",
        "thislist"
      ],
      "metadata": {
        "colab": {
          "base_uri": "https://localhost:8080/"
        },
        "id": "P0SYaPV94s2y",
        "outputId": "5bebd836-f7da-4a0b-eccf-30c44443159c"
      },
      "execution_count": null,
      "outputs": [
        {
          "output_type": "execute_result",
          "data": {
            "text/plain": [
              "['orange', 'melon', 'mango', 'kiwi', 'Strawberry', 'Grapes']"
            ]
          },
          "metadata": {},
          "execution_count": 31
        }
      ]
    },
    {
      "cell_type": "code",
      "source": [
        "thislist.reverse()\n",
        "thislist"
      ],
      "metadata": {
        "colab": {
          "base_uri": "https://localhost:8080/"
        },
        "id": "AaH91sMo4yff",
        "outputId": "0fe71db5-2fa5-4d52-e1e6-97348eb61921"
      },
      "execution_count": null,
      "outputs": [
        {
          "output_type": "execute_result",
          "data": {
            "text/plain": [
              "['Grapes', 'Strawberry', 'kiwi', 'mango', 'melon', 'orange']"
            ]
          },
          "metadata": {},
          "execution_count": 32
        }
      ]
    },
    {
      "cell_type": "code",
      "source": [
        "list_nested = [1,2,3,['John','Sanal'],[3.5,4.1]]\n",
        "list_nested[3]"
      ],
      "metadata": {
        "colab": {
          "base_uri": "https://localhost:8080/"
        },
        "id": "3yJqTOXA4ycH",
        "outputId": "6675ace6-89d6-460d-ee35-08321c809552"
      },
      "execution_count": null,
      "outputs": [
        {
          "output_type": "execute_result",
          "data": {
            "text/plain": [
              "['John', 'Sanal']"
            ]
          },
          "metadata": {},
          "execution_count": 33
        }
      ]
    },
    {
      "cell_type": "code",
      "source": [
        "list_nested[4][0]"
      ],
      "metadata": {
        "colab": {
          "base_uri": "https://localhost:8080/"
        },
        "id": "r4W4JQEw45uc",
        "outputId": "c576132e-b7f7-42ee-c828-6ae71e9f143c"
      },
      "execution_count": null,
      "outputs": [
        {
          "output_type": "execute_result",
          "data": {
            "text/plain": [
              "3.5"
            ]
          },
          "metadata": {},
          "execution_count": 34
        }
      ]
    },
    {
      "cell_type": "code",
      "source": [
        "list_nested[3][1]"
      ],
      "metadata": {
        "colab": {
          "base_uri": "https://localhost:8080/",
          "height": 35
        },
        "id": "bzqsUyLj49dD",
        "outputId": "fc218bda-0b71-4720-80e6-ba8d362050c1"
      },
      "execution_count": null,
      "outputs": [
        {
          "output_type": "execute_result",
          "data": {
            "text/plain": [
              "'Sanal'"
            ],
            "application/vnd.google.colaboratory.intrinsic+json": {
              "type": "string"
            }
          },
          "metadata": {},
          "execution_count": 35
        }
      ]
    },
    {
      "cell_type": "code",
      "source": [
        "my_dict = {'name': 'Alice', 'age': 30, 'city': 'New York'}"
      ],
      "metadata": {
        "id": "1H9RyVML5AeV"
      },
      "execution_count": null,
      "outputs": []
    },
    {
      "cell_type": "code",
      "source": [
        "thisdict = dict(name = \"John\", age = 36, country = \"Norway\")\n",
        "print(thisdict)"
      ],
      "metadata": {
        "colab": {
          "base_uri": "https://localhost:8080/"
        },
        "id": "voklRaSJ5H1D",
        "outputId": "a51c5dfb-08dc-4ffa-c6fd-2b395c0b1eb2"
      },
      "execution_count": null,
      "outputs": [
        {
          "output_type": "stream",
          "name": "stdout",
          "text": [
            "{'name': 'John', 'age': 36, 'country': 'Norway'}\n"
          ]
        }
      ]
    },
    {
      "cell_type": "code",
      "source": [
        "thisdict['country']"
      ],
      "metadata": {
        "colab": {
          "base_uri": "https://localhost:8080/",
          "height": 35
        },
        "id": "tKwuG6n05LYt",
        "outputId": "1b830b1e-1114-4595-e1c6-cbd77b7d8472"
      },
      "execution_count": null,
      "outputs": [
        {
          "output_type": "execute_result",
          "data": {
            "text/plain": [
              "'Norway'"
            ],
            "application/vnd.google.colaboratory.intrinsic+json": {
              "type": "string"
            }
          },
          "metadata": {},
          "execution_count": 53
        }
      ]
    },
    {
      "cell_type": "code",
      "source": [
        "thisdict['country'] = 'Srilanka'\n",
        "thisdict"
      ],
      "metadata": {
        "colab": {
          "base_uri": "https://localhost:8080/"
        },
        "id": "dbT-5vgx5Ouk",
        "outputId": "651a4ce2-c653-4427-ec52-aae8f63fd5dd"
      },
      "execution_count": null,
      "outputs": [
        {
          "output_type": "execute_result",
          "data": {
            "text/plain": [
              "{'name': 'John', 'age': 36, 'country': 'Srilanka'}"
            ]
          },
          "metadata": {},
          "execution_count": 54
        }
      ]
    },
    {
      "cell_type": "code",
      "source": [
        "thisdict[\"color\"] = \"red\"\n",
        "thisdict"
      ],
      "metadata": {
        "colab": {
          "base_uri": "https://localhost:8080/"
        },
        "id": "aFqc-WhV5SOF",
        "outputId": "cd546a01-99da-4969-8ad9-5d807e8873e8"
      },
      "execution_count": null,
      "outputs": [
        {
          "output_type": "execute_result",
          "data": {
            "text/plain": [
              "{'name': 'John', 'age': 36, 'country': 'Srilanka', 'color': 'red'}"
            ]
          },
          "metadata": {},
          "execution_count": 55
        }
      ]
    },
    {
      "cell_type": "code",
      "source": [
        "thisdict.pop(\"age\")\n",
        "thisdict"
      ],
      "metadata": {
        "colab": {
          "base_uri": "https://localhost:8080/"
        },
        "id": "1jP3dS2T5ZJK",
        "outputId": "128a6bee-eb79-4623-8f03-6cafaddc113e"
      },
      "execution_count": null,
      "outputs": [
        {
          "output_type": "execute_result",
          "data": {
            "text/plain": [
              "{'name': 'John', 'country': 'Srilanka', 'color': 'red'}"
            ]
          },
          "metadata": {},
          "execution_count": 41
        }
      ]
    },
    {
      "cell_type": "code",
      "source": [
        "del thisdict[\"color\"]\n",
        "thisdict"
      ],
      "metadata": {
        "colab": {
          "base_uri": "https://localhost:8080/"
        },
        "id": "lXtLpAs_5coJ",
        "outputId": "a3b3c863-a85a-4eb4-ac5d-df2f93c37cbc"
      },
      "execution_count": null,
      "outputs": [
        {
          "output_type": "execute_result",
          "data": {
            "text/plain": [
              "{'name': 'John', 'country': 'Srilanka'}"
            ]
          },
          "metadata": {},
          "execution_count": 42
        }
      ]
    },
    {
      "cell_type": "code",
      "source": [
        "del thisdict"
      ],
      "metadata": {
        "id": "DQHc732o5gO4"
      },
      "execution_count": null,
      "outputs": []
    },
    {
      "cell_type": "code",
      "source": [
        "thisdict.clear()\n",
        "thisdict"
      ],
      "metadata": {
        "colab": {
          "base_uri": "https://localhost:8080/"
        },
        "id": "gqXDuDPU5t29",
        "outputId": "1154fe41-c441-4055-8962-2d853c43f47e"
      },
      "execution_count": null,
      "outputs": [
        {
          "output_type": "execute_result",
          "data": {
            "text/plain": [
              "{}"
            ]
          },
          "metadata": {},
          "execution_count": 50
        }
      ]
    },
    {
      "cell_type": "code",
      "source": [
        "thisdict"
      ],
      "metadata": {
        "colab": {
          "base_uri": "https://localhost:8080/"
        },
        "id": "nr_2y7Q86NWI",
        "outputId": "fc7517aa-27fa-4539-d9ad-e81911a9185e"
      },
      "execution_count": null,
      "outputs": [
        {
          "output_type": "execute_result",
          "data": {
            "text/plain": [
              "{'name': 'John', 'age': 36, 'country': 'Srilanka', 'color': 'red'}"
            ]
          },
          "metadata": {},
          "execution_count": 56
        }
      ]
    },
    {
      "cell_type": "code",
      "source": [
        "thisdict.items()"
      ],
      "metadata": {
        "colab": {
          "base_uri": "https://localhost:8080/"
        },
        "id": "F0yJKsmA6dC5",
        "outputId": "2d8ee0a3-6688-4304-b753-65c0cf0a1d5b"
      },
      "execution_count": null,
      "outputs": [
        {
          "output_type": "execute_result",
          "data": {
            "text/plain": [
              "dict_items([('name', 'John'), ('age', 36), ('country', 'Srilanka'), ('color', 'red')])"
            ]
          },
          "metadata": {},
          "execution_count": 57
        }
      ]
    },
    {
      "cell_type": "code",
      "source": [
        "for x, y in thisdict.items():\n",
        "  print(x, y)"
      ],
      "metadata": {
        "colab": {
          "base_uri": "https://localhost:8080/"
        },
        "id": "-jJdFz_z6e9y",
        "outputId": "61c64256-3ea5-4df8-e29e-a96aabb10e9d"
      },
      "execution_count": null,
      "outputs": [
        {
          "output_type": "stream",
          "name": "stdout",
          "text": [
            "name John\n",
            "age 36\n",
            "country Srilanka\n",
            "color red\n"
          ]
        }
      ]
    },
    {
      "cell_type": "code",
      "source": [
        "thisdict.keys()"
      ],
      "metadata": {
        "colab": {
          "base_uri": "https://localhost:8080/"
        },
        "id": "KaJSOlWB6jxM",
        "outputId": "544d8a48-7ed6-4a24-f1f8-6c3a5d7acf91"
      },
      "execution_count": null,
      "outputs": [
        {
          "output_type": "execute_result",
          "data": {
            "text/plain": [
              "dict_keys(['name', 'age', 'country', 'color'])"
            ]
          },
          "metadata": {},
          "execution_count": 59
        }
      ]
    },
    {
      "cell_type": "code",
      "source": [
        "thisdict.values()"
      ],
      "metadata": {
        "id": "o3gvoE2a6oUY",
        "outputId": "ca5c1d96-d0ac-42c4-a01e-3743d4e48df5",
        "colab": {
          "base_uri": "https://localhost:8080/"
        }
      },
      "execution_count": null,
      "outputs": [
        {
          "output_type": "execute_result",
          "data": {
            "text/plain": [
              "dict_values(['John', 36, 'Srilanka', 'red'])"
            ]
          },
          "metadata": {},
          "execution_count": 60
        }
      ]
    }
  ]
}